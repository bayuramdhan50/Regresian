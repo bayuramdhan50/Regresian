{
 "cells": [
  {
   "cell_type": "markdown",
   "metadata": {},
   "source": [
    "# Analisis Regresi Linear Manual dengan Dataset Mobil India\n",
    "\n",
    "Notebook ini hanya menampilkan perhitungan manual regresi linear sederhana dan berganda tanpa visualisasi atau library scikit-learn. Semua output berupa angka dan teks."
   ]
  },
  {
   "cell_type": "code",
   "execution_count": 3,
   "metadata": {},
   "outputs": [
    {
     "name": "stdout",
     "output_type": "stream",
     "text": [
      "   Car_ID          Brand   Model  Year Fuel_Type Transmission      Price  \\\n",
      "0       1         Toyota  Innova  2024       CNG       Manual  2020000.0   \n",
      "1       2            Kia     EV6  2023    Diesel       Manual  1770000.0   \n",
      "2       3  Maruti Suzuki   Dzire  2016    Petrol       Manual  3430000.0   \n",
      "3       4          Honda   Amaze  2019    Petrol       Manual  1610000.0   \n",
      "4       5          Honda    City  2015  Electric       Manual  1840000.0   \n",
      "\n",
      "   Mileage  Engine_CC  Seating_Capacity  Service_Cost  \n",
      "0     27.3        800                 4       24100.0  \n",
      "1     16.4       2500                 7       18800.0  \n",
      "2     17.6       2000                 6       24700.0  \n",
      "3     19.2       2500                 6       23300.0  \n",
      "4     15.8       1000                 5        5800.0  \n",
      "Informasi Dataset:\n",
      "<class 'pandas.core.frame.DataFrame'>\n",
      "RangeIndex: 50 entries, 0 to 49\n",
      "Data columns (total 11 columns):\n",
      " #   Column            Non-Null Count  Dtype  \n",
      "---  ------            --------------  -----  \n",
      " 0   Car_ID            50 non-null     int64  \n",
      " 1   Brand             50 non-null     object \n",
      " 2   Model             50 non-null     object \n",
      " 3   Year              50 non-null     int64  \n",
      " 4   Fuel_Type         50 non-null     object \n",
      " 5   Transmission      50 non-null     object \n",
      " 6   Price             50 non-null     float64\n",
      " 7   Mileage           50 non-null     float64\n",
      " 8   Engine_CC         50 non-null     int64  \n",
      " 9   Seating_Capacity  50 non-null     int64  \n",
      " 10  Service_Cost      50 non-null     float64\n",
      "dtypes: float64(3), int64(4), object(4)\n",
      "memory usage: 4.4+ KB\n",
      "         Car_ID         Year         Price    Mileage    Engine_CC  \\\n",
      "count  50.00000    50.000000  5.000000e+01  50.000000    50.000000   \n",
      "mean   25.50000  2019.660000  1.808000e+06  19.612000  1658.000000   \n",
      "std    14.57738     2.903973  8.920671e+05   6.076608   520.239348   \n",
      "min     1.00000  2015.000000  4.100000e+05  10.100000   800.000000   \n",
      "25%    13.25000  2017.000000  9.950000e+05  14.600000  1200.000000   \n",
      "50%    25.50000  2020.000000  1.810000e+06  19.200000  1500.000000   \n",
      "75%    37.75000  2022.000000  2.572500e+06  24.950000  2000.000000   \n",
      "max    50.00000  2024.000000  3.430000e+06  29.700000  2500.000000   \n",
      "\n",
      "       Seating_Capacity  Service_Cost  \n",
      "count         50.000000     50.000000  \n",
      "mean           5.660000  14792.000000  \n",
      "std            1.135872   6325.582654  \n",
      "min            4.000000   5100.000000  \n",
      "25%            5.000000   8575.000000  \n",
      "50%            6.000000  14750.000000  \n",
      "75%            7.000000  19375.000000  \n",
      "max            7.000000  24800.000000  \n",
      "\n",
      "Korelasi antar fitur numerik:\n",
      "                    Car_ID      Year     Price   Mileage  Engine_CC  \\\n",
      "Car_ID            1.000000  0.192115 -0.266103  0.010137  -0.121501   \n",
      "Year              0.192115  1.000000  0.015724  0.288207  -0.008294   \n",
      "Price            -0.266103  0.015724  1.000000  0.132135   0.192337   \n",
      "Mileage           0.010137  0.288207  0.132135  1.000000  -0.132113   \n",
      "Engine_CC        -0.121501 -0.008294  0.192337 -0.132113   1.000000   \n",
      "Seating_Capacity  0.038824 -0.085257  0.322374  0.079548   0.161836   \n",
      "Service_Cost     -0.186729  0.101616 -0.043482  0.138524  -0.031050   \n",
      "\n",
      "                  Seating_Capacity  Service_Cost  \n",
      "Car_ID                    0.038824     -0.186729  \n",
      "Year                     -0.085257      0.101616  \n",
      "Price                     0.322374     -0.043482  \n",
      "Mileage                   0.079548      0.138524  \n",
      "Engine_CC                 0.161836     -0.031050  \n",
      "Seating_Capacity          1.000000      0.035970  \n",
      "Service_Cost              0.035970      1.000000  \n"
     ]
    }
   ],
   "source": [
    "import pandas as pd\n",
    "import numpy as np\n",
    "\n",
    "# Membaca dataset\n",
    "car_data = pd.read_csv('car_dataset_india.csv')\n",
    "\n",
    "# Menampilkan 5 baris pertama dari dataset\n",
    "print(car_data.head())\n",
    "\n",
    "# Melihat informasi dasar dari dataset\n",
    "print(\"Informasi Dataset:\")\n",
    "car_data.info()\n",
    "\n",
    "# Melihat statistik deskriptif dari dataset\n",
    "print(car_data.describe())\n",
    "\n",
    "# Korelasi antar fitur numerik\n",
    "correlation_matrix = car_data.corr(numeric_only=True)\n",
    "print(\"\\nKorelasi antar fitur numerik:\")\n",
    "print(correlation_matrix)"
   ]
  },
  {
   "cell_type": "code",
   "execution_count": 4,
   "metadata": {},
   "outputs": [
    {
     "name": "stdout",
     "output_type": "stream",
     "text": [
      "\n",
      "Regresi Linear Sederhana (Manual):\n",
      "Slope (b1): 19397.868650808738\n",
      "Intercept (b0): 1427569.000020339\n",
      "\n",
      "Contoh prediksi harga (5 data pertama):\n",
      "Mileage: 27.3, Actual Price: 2020000.0, Predicted Price: 1957130.8141874175\n",
      "Mileage: 16.4, Actual Price: 1770000.0, Predicted Price: 1745694.045893602\n",
      "Mileage: 17.6, Actual Price: 3430000.0, Predicted Price: 1768971.4882745726\n",
      "Mileage: 19.2, Actual Price: 1610000.0, Predicted Price: 1800008.0781158668\n",
      "Mileage: 15.8, Actual Price: 1840000.0, Predicted Price: 1734055.324703117\n",
      "\n",
      "R-squared (Manual): 0.01745964382719034\n"
     ]
    }
   ],
   "source": [
    "# Regresi Linear Sederhana (Manual) - Mileage vs Price\n",
    "X = car_data['Mileage'].values\n",
    "y = car_data['Price'].values\n",
    "\n",
    "mean_x = np.mean(X)\n",
    "mean_y = np.mean(y)\n",
    "\n",
    "numerator = np.sum((X - mean_x) * (y - mean_y))\n",
    "denominator = np.sum((X - mean_x) ** 2)\n",
    "slope = numerator / denominator\n",
    "intercept = mean_y - slope * mean_x\n",
    "\n",
    "print(f'\\nRegresi Linear Sederhana (Manual):')\n",
    "print(f'Slope (b1): {slope}')\n",
    "print(f'Intercept (b0): {intercept}')\n",
    "\n",
    "predictions = intercept + slope * X\n",
    "print('\\nContoh prediksi harga (5 data pertama):')\n",
    "for i in range(5):\n",
    "    print(f'Mileage: {X[i]}, Actual Price: {y[i]}, Predicted Price: {predictions[i]}')\n",
    "\n",
    "ss_total = np.sum((y - mean_y) ** 2)\n",
    "ss_res = np.sum((y - predictions) ** 2)\n",
    "r_squared = 1 - (ss_res / ss_total)\n",
    "print(f'\\nR-squared (Manual): {r_squared}')"
   ]
  },
  {
   "cell_type": "code",
   "execution_count": 6,
   "metadata": {},
   "outputs": [
    {
     "name": "stdout",
     "output_type": "stream",
     "text": [
      "\n",
      "Regresi Linear Berganda (Manual):\n",
      "Intercept (b0): 739311.599504671\n",
      "Koefisien Mileage (b1): 23539.03298521877\n",
      "Koefisien Engine_CC (b2): 366.1283990284809\n",
      "\n",
      "Contoh prediksi harga (5 data pertama) Regresi Berganda:\n",
      "Mileage: 27.3, Engine_CC: 800.0, Actual Price: 2020000.0, Predicted Price: 1674829.9192239281\n",
      "Mileage: 16.4, Engine_CC: 2500.0, Actual Price: 1770000.0, Predicted Price: 2040672.738033461\n",
      "Mileage: 17.6, Engine_CC: 2000.0, Actual Price: 3430000.0, Predicted Price: 1885855.3781014832\n",
      "Mileage: 19.2, Engine_CC: 2500.0, Actual Price: 1610000.0, Predicted Price: 2106582.0303920736\n",
      "Mileage: 15.8, Engine_CC: 1000.0, Actual Price: 1840000.0, Predicted Price: 1477356.7196996086\n",
      "\n",
      "R-squared (Manual) Regresi Berganda: 0.06225480568915753\n"
     ]
    }
   ],
   "source": [
    "# Regresi Linear Berganda (Manual) - Mileage, Engine_CC, Service_Cost vs Price\n",
    "X_multi = car_data[['Mileage', 'Engine_CC']].values\n",
    "y_multi = car_data['Price'].values\n",
    "X_multi_b = np.c_[np.ones(X_multi.shape[0]), X_multi]  # Tambahkan kolom 1 untuk intercept\n",
    "beta = np.linalg.inv(X_multi_b.T @ X_multi_b) @ X_multi_b.T @ y_multi\n",
    "print('\\nRegresi Linear Berganda (Manual):')\n",
    "print(f'Intercept (b0): {beta[0]}')\n",
    "print(f'Koefisien Mileage (b1): {beta[1]}')\n",
    "print(f'Koefisien Engine_CC (b2): {beta[2]}')\n",
    "pred_multi = X_multi_b @ beta\n",
    "print('\\nContoh prediksi harga (5 data pertama) Regresi Berganda:')\n",
    "for i in range(5):\n",
    "    print(f'Mileage: {X_multi[i,0]}, Engine_CC: {X_multi[i,1]}, Actual Price: {y_multi[i]}, Predicted Price: {pred_multi[i]}')\n",
    "ss_total_multi = np.sum((y_multi - np.mean(y_multi)) ** 2)\n",
    "ss_res_multi = np.sum((y_multi - pred_multi) ** 2)\n",
    "r_squared_multi = 1 - (ss_res_multi / ss_total_multi)\n",
    "print(f'\\nR-squared (Manual) Regresi Berganda: {r_squared_multi}')"
   ]
  }
 ],
 "metadata": {
  "kernelspec": {
   "display_name": "Python 3",
   "language": "python",
   "name": "python3"
  },
  "language_info": {
   "codemirror_mode": {
    "name": "ipython",
    "version": 3
   },
   "file_extension": ".py",
   "mimetype": "text/x-python",
   "name": "python",
   "nbconvert_exporter": "python",
   "pygments_lexer": "ipython3",
   "version": "3.12.7"
  }
 },
 "nbformat": 4,
 "nbformat_minor": 2
}
